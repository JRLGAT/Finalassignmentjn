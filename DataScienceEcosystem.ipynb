{
 "cells": [
  {
   "cell_type": "markdown",
   "id": "15d33482-00a9-4d17-ade9-a7f94119b0c0",
   "metadata": {},
   "source": [
    "# Data Science Tools and Ecosystem"
   ]
  },
  {
   "cell_type": "markdown",
   "id": "c6951892-9346-4389-a3ee-75df64ca525f",
   "metadata": {},
   "source": [
    "In this notebook, Data Science Tools and Ecosystem are summarized."
   ]
  },
  {
   "cell_type": "markdown",
   "id": "3ad7d0f0-774a-4ad1-bdcc-3b2c968922c6",
   "metadata": {},
   "source": [
    "**Objectives:**\n",
    "* Languages\n",
    "* Libraries\n",
    "* Tools\n",
    "* Arithmetics"
   ]
  },
  {
   "cell_type": "markdown",
   "id": "42ec470f-489e-4b71-be91-13e0b3d70184",
   "metadata": {},
   "source": [
    "Some of the popular languages that Data Scientists use are:\n",
    "1. Python\n",
    "2. R\n",
    "3. SQL\n",
    "4. Julia\n",
    "5. Scala"
   ]
  },
  {
   "cell_type": "markdown",
   "id": "4a2e4fda-b817-40ca-ba71-c6900562078a",
   "metadata": {},
   "source": [
    "Some of the commonly used libraries used by Data Scientists include:\n",
    "1. Pandas\n",
    "2. Numpy\n",
    "3. Scikit-learn\n",
    "4. Matplotlib\n",
    "5. TensorFlow"
   ]
  },
  {
   "cell_type": "markdown",
   "id": "2166a33c-4048-46fa-874c-68423260cfa9",
   "metadata": {},
   "source": [
    "|Data Science Tools|\n",
    "| --- |\n",
    "|Git|\n",
    "|Visual Studio Code|\n",
    "|Docker|\n",
    "|GitLab|"
   ]
  },
  {
   "cell_type": "markdown",
   "id": "fd521efc-aa2e-4dc2-8514-22bfdd5e29eb",
   "metadata": {},
   "source": [
    "### Below are a few examples of evaluating arithmetic expressions in Python"
   ]
  },
  {
   "cell_type": "code",
   "execution_count": 12,
   "id": "74be3389-2b91-4a69-bbe9-9351ad2499c2",
   "metadata": {},
   "outputs": [
    {
     "data": {
      "text/plain": [
       "17"
      ]
     },
     "execution_count": 12,
     "metadata": {},
     "output_type": "execute_result"
    }
   ],
   "source": [
    " # This a simple arithmetic expression to mutiply then add integers\n",
    "(3*4)+5"
   ]
  },
  {
   "cell_type": "code",
   "execution_count": 14,
   "id": "a1263a24-9be9-48b8-acba-c721c1ceee97",
   "metadata": {},
   "outputs": [
    {
     "data": {
      "text/plain": [
       "3.3333333333333335"
      ]
     },
     "execution_count": 14,
     "metadata": {},
     "output_type": "execute_result"
    }
   ],
   "source": [
    "# This will convert 200 minutes to hours by diving by 60\n",
    "200/60"
   ]
  },
  {
   "cell_type": "markdown",
   "id": "121facc1-3efc-4ff4-94fe-2ceb72ef8302",
   "metadata": {},
   "source": [
    "**Author**\n",
    "\n",
    "JR Lopez G"
   ]
  },
  {
   "cell_type": "code",
   "execution_count": null,
   "id": "6ade7c11-918d-47c7-9e8c-0d8a3d564e66",
   "metadata": {},
   "outputs": [],
   "source": []
  }
 ],
 "metadata": {
  "kernelspec": {
   "display_name": "Python 3 (ipykernel)",
   "language": "python",
   "name": "python3"
  },
  "language_info": {
   "codemirror_mode": {
    "name": "ipython",
    "version": 3
   },
   "file_extension": ".py",
   "mimetype": "text/x-python",
   "name": "python",
   "nbconvert_exporter": "python",
   "pygments_lexer": "ipython3",
   "version": "3.12.7"
  }
 },
 "nbformat": 4,
 "nbformat_minor": 5
}
